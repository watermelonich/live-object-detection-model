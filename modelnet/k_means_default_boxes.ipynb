{
 "cells": [
  {
   "cell_type": "markdown",
   "metadata": {},
   "source": [
    "# K-Means Clustering for Default Boxes"
   ]
  },
  {
   "cell_type": "code",
   "execution_count": 1,
   "metadata": {
    "ExecuteTime": {
     "end_time": "2020-05-28T08:25:35.382484Z",
     "start_time": "2020-05-28T08:25:34.847301Z"
    }
   },
   "outputs": [],
   "source": [
    "import glob\n",
    "import os\n",
    "import matplotlib.pyplot as plt\n",
    "import cv2\n",
    "import numpy as np\n",
    "import xml.etree.ElementTree as ET\n",
    "from random import randint\n",
    "from sklearn.cluster import KMeans"
   ]
  },
  {
   "cell_type": "code",
   "execution_count": 62,
   "metadata": {},
   "outputs": [],
   "source": [
    "import matplotlib.pyplot as plt\n",
    "%matplotlib inline"
   ]
  },
  {
   "cell_type": "code",
   "execution_count": 4,
   "metadata": {
    "ExecuteTime": {
     "end_time": "2020-05-28T08:25:41.216823Z",
     "start_time": "2020-05-28T08:25:40.895249Z"
    }
   },
   "outputs": [],
   "source": [
    "obd_src = glob.glob(\"../../bdd100k/bdd100k/images/100k/train/*.jpg\")"
   ]
  },
  {
   "cell_type": "code",
   "execution_count": 5,
   "metadata": {
    "ExecuteTime": {
     "end_time": "2020-05-28T08:25:43.740700Z",
     "start_time": "2020-05-28T08:25:43.492953Z"
    }
   },
   "outputs": [
    {
     "name": "stdout",
     "output_type": "stream",
     "text": [
      "80421\n"
     ]
    }
   ],
   "source": [
    "obd_name = []\n",
    "\n",
    "num_obd = 0\n",
    "\n",
    "for obd in obd_src:\n",
    "    num_obd += 1\n",
    "    obd_basename = os.path.basename(obd)\n",
    "    obd_onlyname = os.path.splitext(obd_basename)\n",
    "\n",
    "    obd_name.append(obd_onlyname[0])\n",
    "    \n",
    "print(num_obd)"
   ]
  },
  {
   "cell_type": "code",
   "execution_count": 6,
   "metadata": {
    "ExecuteTime": {
     "end_time": "2020-05-27T04:52:56.412699Z",
     "start_time": "2020-05-27T04:52:56.393472Z"
    }
   },
   "outputs": [
    {
     "name": "stdout",
     "output_type": "stream",
     "text": [
      "Num of Objs:  1728622\n"
     ]
    }
   ],
   "source": [
    "img_info = []\n",
    "\n",
    "for name in obd_name:\n",
    "    xml_path = \"../../bdd100k/bdd100k/xml/train/\" + name + \".xml\"\n",
    "\n",
    "    with open(xml_path, \"r\") as new_f:\n",
    "        root = ET.parse(xml_path).getroot()\n",
    "        for obj in root.findall('object'):\n",
    "            obj_name = obj.find('name').text\n",
    "            # if obj_name == \"person\":\n",
    "            bndbox = obj.find('bndbox')\n",
    "            left = bndbox.find('xmin').text\n",
    "            top = bndbox.find('ymin').text\n",
    "            right = bndbox.find('xmax').text\n",
    "            bottom = bndbox.find('ymax').text\n",
    "\n",
    "            img_info.append([obj_name, left, top, right, bottom])\n",
    "\n",
    "print(\"Num of Objs: \", len(img_info))"
   ]
  },
  {
   "cell_type": "code",
   "execution_count": 9,
   "metadata": {},
   "outputs": [],
   "source": [
    "box_w = []\n",
    "box_h = []\n",
    "\n",
    "for box in img_info:\n",
    "    box_w.append(int(box[3]) - int(box[1]))\n",
    "    box_h.append(int(box[4]) - int(box[2]))"
   ]
  },
  {
   "cell_type": "code",
   "execution_count": 28,
   "metadata": {},
   "outputs": [
    {
     "name": "stdout",
     "output_type": "stream",
     "text": [
      "[14, 91, 6, 178, 13, 12, 10, 12, 35, 18]\n"
     ]
    }
   ],
   "source": [
    "print(box_w[:10])"
   ]
  },
  {
   "cell_type": "code",
   "execution_count": 30,
   "metadata": {},
   "outputs": [
    {
     "name": "stdout",
     "output_type": "stream",
     "text": [
      "(1728622,)\n",
      "(1728622,)\n"
     ]
    }
   ],
   "source": [
    "print(np.array(box_w).shape)\n",
    "print(np.array(box_h).shape)"
   ]
  },
  {
   "cell_type": "code",
   "execution_count": 57,
   "metadata": {},
   "outputs": [],
   "source": [
    "box_sizes = []\n",
    "\n",
    "for i in range(len(box_w)):\n",
    "    box_sizes.append((int(box_w[i]), int(box_h[i])))"
   ]
  },
  {
   "cell_type": "code",
   "execution_count": 60,
   "metadata": {},
   "outputs": [],
   "source": [
    "box_sizes_array = np.array(box_sizes)"
   ]
  },
  {
   "cell_type": "code",
   "execution_count": 61,
   "metadata": {},
   "outputs": [
    {
     "name": "stdout",
     "output_type": "stream",
     "text": [
      "(1728622, 2)\n"
     ]
    }
   ],
   "source": [
    "print(box_sizes_array.shape)"
   ]
  },
  {
   "cell_type": "code",
   "execution_count": 63,
   "metadata": {},
   "outputs": [
    {
     "data": {
      "text/plain": [
       "<matplotlib.collections.PathCollection at 0x7fa7e8f865f8>"
      ]
     },
     "execution_count": 63,
     "metadata": {},
     "output_type": "execute_result"
    },
    {
     "data": {
      "image/png": "[encoded data removed]",
      "text/plain": [
       "<Figure size 432x288 with 1 Axes>"
      ]
     },
     "metadata": {
      "needs_background": "light"
     },
     "output_type": "display_data"
    }
   ],
   "source": [
    "plt.scatter(box_sizes_array[:,0], box_sizes_array[:,1], label='True Position')"
   ]
  },
  {
   "cell_type": "code",
   "execution_count": 66,
   "metadata": {},
   "outputs": [
    {
     "data": {
      "text/plain": [
       "KMeans(n_clusters=6)"
      ]
     },
     "execution_count": 66,
     "metadata": {},
     "output_type": "execute_result"
    }
   ],
   "source": [
    "kmeans = KMeans(n_clusters=6)\n",
    "kmeans.fit(box_sizes_array)"
   ]
  },
  {
   "cell_type": "code",
   "execution_count": 67,
   "metadata": {},
   "outputs": [
    {
     "name": "stdout",
     "output_type": "stream",
     "text": [
      "[[ 61.71258844  60.47579592]\n",
      " [289.35529204 179.17602901]\n",
      " [ 21.96325564  22.79405422]\n",
      " [151.11738297  94.1544037 ]\n",
      " [428.62636074 354.0335961 ]\n",
      " [129.39122008 226.6351673 ]]\n"
     ]
    }
   ],
   "source": [
    "print(kmeans.cluster_centers_)"
   ]
  },
  {
   "cell_type": "code",
   "execution_count": null,
   "metadata": {},
   "outputs": [],
   "source": []
  },
  {
   "cell_type": "code",
   "execution_count": null,
   "metadata": {},
   "outputs": [],
   "source": []
  },
  {
   "cell_type": "code",
   "execution_count": null,
   "metadata": {},
   "outputs": [],
   "source": []
  },
  {
   "cell_type": "code",
   "execution_count": null,
   "metadata": {},
   "outputs": [],
   "source": []
  },
  {
   "cell_type": "code",
   "execution_count": null,
   "metadata": {},
   "outputs": [],
   "source": []
  },
  {
   "cell_type": "code",
   "execution_count": null,
   "metadata": {},
   "outputs": [],
   "source": []
  },
  {
   "cell_type": "code",
   "execution_count": null,
   "metadata": {},
   "outputs": [],
   "source": []
  }
 ],
 "metadata": {
  "kernelspec": {
   "display_name": "Python 3",
   "language": "python",
   "name": "python3"
  },
  "language_info": {
   "codemirror_mode": {
    "name": "ipython",
    "version": 3
   },
   "file_extension": ".py",
   "mimetype": "text/x-python",
   "name": "python",
   "nbconvert_exporter": "python",
   "pygments_lexer": "ipython3",
   "version": "3.6.6"
  }
 },
 "nbformat": 4,
 "nbformat_minor": 4
}
